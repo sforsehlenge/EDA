{
 "cells": [
  {
   "cell_type": "code",
   "execution_count": null,
   "id": "406ee933",
   "metadata": {},
   "outputs": [],
   "source": [
    "iport pandas as pd\n",
    "df= pd.DataFrame"
   ]
  }
 ],
 "metadata": {
  "kernelspec": {
   "display_name": "base",
   "language": "python",
   "name": "python3"
  },
  "language_info": {
   "name": "python",
   "version": "3.12.7"
  }
 },
 "nbformat": 4,
 "nbformat_minor": 5
}
